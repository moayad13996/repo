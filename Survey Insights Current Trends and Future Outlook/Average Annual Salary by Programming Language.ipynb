{
 "cells": [
  {
   "cell_type": "code",
   "execution_count": 9,
   "metadata": {},
   "outputs": [
    {
     "data": {
      "text/html": [
       "\n",
       "<style>\n",
       "  #altair-viz-eb80014d539f48d292d2e842c24fef2c.vega-embed {\n",
       "    width: 100%;\n",
       "    display: flex;\n",
       "  }\n",
       "\n",
       "  #altair-viz-eb80014d539f48d292d2e842c24fef2c.vega-embed details,\n",
       "  #altair-viz-eb80014d539f48d292d2e842c24fef2c.vega-embed details summary {\n",
       "    position: relative;\n",
       "  }\n",
       "</style>\n",
       "<div id=\"altair-viz-eb80014d539f48d292d2e842c24fef2c\"></div>\n",
       "<script type=\"text/javascript\">\n",
       "  var VEGA_DEBUG = (typeof VEGA_DEBUG == \"undefined\") ? {} : VEGA_DEBUG;\n",
       "  (function(spec, embedOpt){\n",
       "    let outputDiv = document.currentScript.previousElementSibling;\n",
       "    if (outputDiv.id !== \"altair-viz-eb80014d539f48d292d2e842c24fef2c\") {\n",
       "      outputDiv = document.getElementById(\"altair-viz-eb80014d539f48d292d2e842c24fef2c\");\n",
       "    }\n",
       "\n",
       "    const paths = {\n",
       "      \"vega\": \"https://cdn.jsdelivr.net/npm/vega@5?noext\",\n",
       "      \"vega-lib\": \"https://cdn.jsdelivr.net/npm/vega-lib?noext\",\n",
       "      \"vega-lite\": \"https://cdn.jsdelivr.net/npm/vega-lite@5.20.1?noext\",\n",
       "      \"vega-embed\": \"https://cdn.jsdelivr.net/npm/vega-embed@6?noext\",\n",
       "    };\n",
       "\n",
       "    function maybeLoadScript(lib, version) {\n",
       "      var key = `${lib.replace(\"-\", \"\")}_version`;\n",
       "      return (VEGA_DEBUG[key] == version) ?\n",
       "        Promise.resolve(paths[lib]) :\n",
       "        new Promise(function(resolve, reject) {\n",
       "          var s = document.createElement('script');\n",
       "          document.getElementsByTagName(\"head\")[0].appendChild(s);\n",
       "          s.async = true;\n",
       "          s.onload = () => {\n",
       "            VEGA_DEBUG[key] = version;\n",
       "            return resolve(paths[lib]);\n",
       "          };\n",
       "          s.onerror = () => reject(`Error loading script: ${paths[lib]}`);\n",
       "          s.src = paths[lib];\n",
       "        });\n",
       "    }\n",
       "\n",
       "    function showError(err) {\n",
       "      outputDiv.innerHTML = `<div class=\"error\" style=\"color:red;\">${err}</div>`;\n",
       "      throw err;\n",
       "    }\n",
       "\n",
       "    function displayChart(vegaEmbed) {\n",
       "      vegaEmbed(outputDiv, spec, embedOpt)\n",
       "        .catch(err => showError(`Javascript Error: ${err.message}<br>This usually means there's a typo in your chart specification. See the javascript console for the full traceback.`));\n",
       "    }\n",
       "\n",
       "    if(typeof define === \"function\" && define.amd) {\n",
       "      requirejs.config({paths});\n",
       "      let deps = [\"vega-embed\"];\n",
       "      require(deps, displayChart, err => showError(`Error loading script: ${err.message}`));\n",
       "    } else {\n",
       "      maybeLoadScript(\"vega\", \"5\")\n",
       "        .then(() => maybeLoadScript(\"vega-lite\", \"5.20.1\"))\n",
       "        .then(() => maybeLoadScript(\"vega-embed\", \"6\"))\n",
       "        .catch(showError)\n",
       "        .then(() => displayChart(vegaEmbed));\n",
       "    }\n",
       "  })({\"config\": {\"view\": {\"continuousWidth\": 300, \"continuousHeight\": 300}}, \"data\": {\"name\": \"data-dc3f53184150742addeaf6300f506a7a\"}, \"mark\": {\"type\": \"bar\"}, \"encoding\": {\"tooltip\": [{\"field\": \"Language\", \"type\": \"nominal\"}, {\"field\": \"Average Annual Salary\", \"format\": \"$,.2f\", \"type\": \"quantitative\"}], \"x\": {\"field\": \"Language\", \"sort\": \"-y\", \"title\": \"Programming Language\", \"type\": \"nominal\"}, \"y\": {\"field\": \"Average Annual Salary\", \"title\": \"Average Annual Salary ($)\", \"type\": \"quantitative\"}}, \"title\": \"Average Annual Salary by Programming Language\", \"$schema\": \"https://vega.github.io/schema/vega-lite/v5.20.1.json\", \"datasets\": {\"data-dc3f53184150742addeaf6300f506a7a\": [{\"Language\": \"Swift\", \"Average Annual Salary\": 130801.0}, {\"Language\": \"Python\", \"Average Annual Salary\": 114383.0}, {\"Language\": \"C++\", \"Average Annual Salary\": 113865.0}, {\"Language\": \"Javascript\", \"Average Annual Salary\": 110981.0}, {\"Language\": \"Java\", \"Average Annual Salary\": 101013.0}, {\"Language\": \"Go\", \"Average Annual Salary\": 94082.0}, {\"Language\": \"R\", \"Average Annual Salary\": 92037.0}, {\"Language\": \"C#\", \"Average Annual Salary\": 88726.0}, {\"Language\": \"SQL\", \"Average Annual Salary\": 84793.0}, {\"Language\": \"PHP\", \"Average Annual Salary\": 84727.0}]}}, {\"mode\": \"vega-lite\"});\n",
       "</script>"
      ],
      "text/plain": [
       "alt.Chart(...)"
      ]
     },
     "execution_count": 9,
     "metadata": {},
     "output_type": "execute_result"
    }
   ],
   "source": [
    "import pandas as pd\n",
    "import altair as alt\n",
    "\n",
    "# Read the CSV file into a DataFrame\n",
    "df = pd.read_csv('popular-languages.csv')\n",
    "\n",
    "# Clean the 'Average Annual Salary' column\n",
    "df['Average Annual Salary'] = df['Average Annual Salary'].replace({'\\$': '', ',': ''}, regex=True).astype(float)\n",
    "\n",
    "# Sort the DataFrame by 'Average Annual Salary' in descending order\n",
    "df_sorted = df.sort_values('Average Annual Salary', ascending=False)\n",
    "\n",
    "# Create a bar chart\n",
    "chart = alt.Chart(df_sorted).mark_bar().encode(\n",
    "    x=alt.X('Language', sort='-y', title='Programming Language'), # Sort x-axis by y-axis in descending order\n",
    "    y=alt.Y('Average Annual Salary', title='Average Annual Salary ($)'),\n",
    "    tooltip=['Language', alt.Tooltip('Average Annual Salary', format='$,.2f')]\n",
    ").properties(\n",
    "    title='Average Annual Salary by Programming Language'\n",
    ")\n",
    "\n",
    "# Display the chart directly\n",
    "chart"
   ]
  },
  {
   "cell_type": "code",
   "execution_count": null,
   "metadata": {},
   "outputs": [],
   "source": []
  }
 ],
 "metadata": {
  "kernelspec": {
   "display_name": "Python 3 (ipykernel)",
   "language": "python",
   "name": "python3"
  },
  "language_info": {
   "codemirror_mode": {
    "name": "ipython",
    "version": 3
   },
   "file_extension": ".py",
   "mimetype": "text/x-python",
   "name": "python",
   "nbconvert_exporter": "python",
   "pygments_lexer": "ipython3",
   "version": "3.12.8"
  },
  "prev_pub_hash": "2a4f0935f8d3cf9549d9e18dbbd812b8dd5a034c94517c8adba13875f8268801"
 },
 "nbformat": 4,
 "nbformat_minor": 4
}
